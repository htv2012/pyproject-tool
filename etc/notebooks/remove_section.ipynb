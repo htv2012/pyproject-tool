{
 "cells": [
  {
   "cell_type": "markdown",
   "id": "4af96c1a-1c47-46c3-bf18-d8b63a8fa565",
   "metadata": {},
   "source": [
    "# Remove a section from pyproject"
   ]
  },
  {
   "cell_type": "code",
   "execution_count": 1,
   "id": "2b965ac9-a5ab-40b3-8409-ab3ea6aabfc6",
   "metadata": {},
   "outputs": [],
   "source": [
    "import fileinput"
   ]
  },
  {
   "cell_type": "code",
   "execution_count": 10,
   "id": "02381463-500b-480c-837a-849eca901718",
   "metadata": {},
   "outputs": [
    {
     "name": "stdout",
     "output_type": "stream",
     "text": [
      "[project]\n",
      "name = \"pyproject-tool\"\n",
      "version = \"0.1.0\"\n",
      "description = \"Add your description here\"\n",
      "readme = \"README.md\"\n",
      "authors = [\n",
      "    { name = \"Hai Vu\", email = \"haivu2004@gmail.com\" },\n",
      "]\n",
      "requires-python = \">=3.13\"\n",
      "dependencies = [\n",
      "    \"click>=8.1.8\",\n",
      "    \"tomli-w>=1.2.0\",\n",
      "]\n",
      "\n",
      "[project.scripts]\n",
      "pyproject-tool = \"pyproject_tool:main\"\n",
      "\n",
      "[build-system]\n",
      "requires = [\n",
      "    \"hatchling\",\n",
      "]\n",
      "build-backend = \"hatchling.build\"\n",
      "\n",
      "# [tool.pytest.ini_options]\n",
      "# log_cli = true\n",
      "# log_cli_level = \"DEBUG\"\n",
      "# log_cli_format = \"%(levelname)s:%(name)s:%(message)s\"\n",
      "# log_cli_date_format = \"%Y-%m-%d %H:%M:%S\"\n",
      "# log_file = \"pytest.log\"\n",
      "# log_file_level = \"DEBUG\"\n",
      "# log_file_format = \"%(levelname)s:%(name)s:%(message)s\"\n",
      "# log_file_date_format = \"%Y-%m-%d %H:%M:%S\"\n",
      "# \n",
      "[dependency-groups]\n",
      "dev = [\n",
      "    \"ipython>=8.32.0\",\n",
      "    \"jupyterlab>=4.3.5\",\n",
      "    \"pudb>=2024.1.3\",\n",
      "    \"pytest>=8.3.4\",\n",
      "    \"python-dotenv>=1.0.1\",\n",
      "    \"ruff>=0.9.7\",\n",
      "]\n"
     ]
    }
   ],
   "source": [
    "f = True\n",
    "for line in fileinput.input(\"/tmp/pyproject.toml\"):\n",
    "    if line.strip().startswith(\"[\"):\n",
    "        # print(\"#\")\n",
    "        # print(f\"# {line=}\")\n",
    "        f = \"tool.pytest.ini_options\" not in line\n",
    "        # print(f\"# {f=}\")\n",
    "        # print(\"#\")\n",
    "    if f:\n",
    "        print(line.rstrip())\n",
    "    else:\n",
    "        print(f\"# {line.rstrip()}\")"
   ]
  },
  {
   "cell_type": "code",
   "execution_count": 16,
   "id": "b442aabf-85f7-483f-b760-6e2de6aa5c8e",
   "metadata": {},
   "outputs": [],
   "source": [
    "def remove_section(name: str, lines):\n",
    "    display = True\n",
    "    for line in lines:\n",
    "        if line.strip().startswith(\"[\"):\n",
    "            display = name not in line\n",
    "        if display:\n",
    "            yield line\n",
    "        # else:\n",
    "        #     yield '# ' + line"
   ]
  },
  {
   "cell_type": "code",
   "execution_count": 17,
   "id": "bed8f0b9-4238-4039-96fc-7a43f4961e2d",
   "metadata": {},
   "outputs": [
    {
     "name": "stdout",
     "output_type": "stream",
     "text": [
      "[project]\n",
      "name = \"pyproject-tool\"\n",
      "version = \"0.1.0\"\n",
      "description = \"Add your description here\"\n",
      "readme = \"README.md\"\n",
      "authors = [\n",
      "    { name = \"Hai Vu\", email = \"haivu2004@gmail.com\" },\n",
      "]\n",
      "requires-python = \">=3.13\"\n",
      "dependencies = [\n",
      "    \"click>=8.1.8\",\n",
      "    \"tomli-w>=1.2.0\",\n",
      "]\n",
      "\n",
      "[project.scripts]\n",
      "pyproject-tool = \"pyproject_tool:main\"\n",
      "\n",
      "[build-system]\n",
      "requires = [\n",
      "    \"hatchling\",\n",
      "]\n",
      "build-backend = \"hatchling.build\"\n",
      "\n",
      "[dependency-groups]\n",
      "dev = [\n",
      "    \"ipython>=8.32.0\",\n",
      "    \"jupyterlab>=4.3.5\",\n",
      "    \"pudb>=2024.1.3\",\n",
      "    \"pytest>=8.3.4\",\n",
      "    \"python-dotenv>=1.0.1\",\n",
      "    \"ruff>=0.9.7\",\n",
      "]\n",
      "\n"
     ]
    }
   ],
   "source": [
    "with open(\"/tmp/pyproject.toml\") as stream:\n",
    "    for line in remove_section(\"[tool.pytest.ini_options]\", stream):\n",
    "        print(line.rstrip())"
   ]
  },
  {
   "cell_type": "code",
   "execution_count": null,
   "id": "700037be-8c6e-4e26-a589-4a6e72bf24c1",
   "metadata": {},
   "outputs": [],
   "source": []
  }
 ],
 "metadata": {
  "kernelspec": {
   "display_name": "Python 3 (ipykernel)",
   "language": "python",
   "name": "python3"
  },
  "language_info": {
   "codemirror_mode": {
    "name": "ipython",
    "version": 3
   },
   "file_extension": ".py",
   "mimetype": "text/x-python",
   "name": "python",
   "nbconvert_exporter": "python",
   "pygments_lexer": "ipython3",
   "version": "3.13.2"
  }
 },
 "nbformat": 4,
 "nbformat_minor": 5
}
