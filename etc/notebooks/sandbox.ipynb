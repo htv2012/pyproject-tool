{
 "cells": [
  {
   "cell_type": "markdown",
   "id": "e4e7b107-cff1-4114-902d-226f576b56bc",
   "metadata": {},
   "source": [
    "# Sandbox\n",
    "\n",
    "Here is the place to try out ideads"
   ]
  },
  {
   "cell_type": "code",
   "execution_count": 3,
   "id": "aca394bb-d0e6-4dd8-b7f9-32f6ae9705da",
   "metadata": {},
   "outputs": [
    {
     "data": {
      "text/plain": [
       "<RootLogger root (WARNING)>"
      ]
     },
     "execution_count": 3,
     "metadata": {},
     "output_type": "execute_result"
    }
   ],
   "source": [
    "import logging\n",
    "logging.basicConfig()\n",
    "logger = logging.getLogger()\n",
    "logger"
   ]
  },
  {
   "cell_type": "code",
   "execution_count": 4,
   "id": "95716b14-4798-4286-8554-fdccbfbdb348",
   "metadata": {},
   "outputs": [
    {
     "data": {
      "text/plain": [
       "[<StreamHandler stderr (NOTSET)>]"
      ]
     },
     "execution_count": 4,
     "metadata": {},
     "output_type": "execute_result"
    }
   ],
   "source": [
    "logger.handlers"
   ]
  },
  {
   "cell_type": "code",
   "execution_count": 8,
   "id": "95b7af7f-a523-4148-aedb-991789518665",
   "metadata": {},
   "outputs": [],
   "source": [
    "f = logger.handlers[0].formatter"
   ]
  },
  {
   "cell_type": "code",
   "execution_count": 10,
   "id": "a187046b-a4c9-480d-86a9-e180c252ca1f",
   "metadata": {},
   "outputs": [
    {
     "data": {
      "text/plain": [
       "<logging.Formatter at 0x108482d50>"
      ]
     },
     "execution_count": 10,
     "metadata": {},
     "output_type": "execute_result"
    }
   ],
   "source": [
    "f"
   ]
  },
  {
   "cell_type": "code",
   "execution_count": 11,
   "id": "323af624-4205-430a-877b-2611077dc4f2",
   "metadata": {},
   "outputs": [
    {
     "data": {
      "text/plain": [
       "['__class__',\n",
       " '__delattr__',\n",
       " '__dict__',\n",
       " '__dir__',\n",
       " '__doc__',\n",
       " '__eq__',\n",
       " '__firstlineno__',\n",
       " '__format__',\n",
       " '__ge__',\n",
       " '__getattribute__',\n",
       " '__getstate__',\n",
       " '__gt__',\n",
       " '__hash__',\n",
       " '__init__',\n",
       " '__init_subclass__',\n",
       " '__le__',\n",
       " '__lt__',\n",
       " '__module__',\n",
       " '__ne__',\n",
       " '__new__',\n",
       " '__reduce__',\n",
       " '__reduce_ex__',\n",
       " '__repr__',\n",
       " '__setattr__',\n",
       " '__sizeof__',\n",
       " '__static_attributes__',\n",
       " '__str__',\n",
       " '__subclasshook__',\n",
       " '__weakref__',\n",
       " '_fmt',\n",
       " '_style',\n",
       " 'converter',\n",
       " 'datefmt',\n",
       " 'default_msec_format',\n",
       " 'default_time_format',\n",
       " 'format',\n",
       " 'formatException',\n",
       " 'formatMessage',\n",
       " 'formatStack',\n",
       " 'formatTime',\n",
       " 'usesTime']"
      ]
     },
     "execution_count": 11,
     "metadata": {},
     "output_type": "execute_result"
    }
   ],
   "source": [
    "dir(f)"
   ]
  },
  {
   "cell_type": "code",
   "execution_count": 12,
   "id": "86d361c2-8b88-4095-a53a-e17ac9557eb3",
   "metadata": {},
   "outputs": [
    {
     "data": {
      "text/plain": [
       "<bound method Formatter.format of <logging.Formatter object at 0x108482d50>>"
      ]
     },
     "execution_count": 12,
     "metadata": {},
     "output_type": "execute_result"
    }
   ],
   "source": [
    "f.format"
   ]
  },
  {
   "cell_type": "code",
   "execution_count": 13,
   "id": "d5557678-0c0b-43db-ae4d-e11e3f35ac17",
   "metadata": {},
   "outputs": [
    {
     "data": {
      "text/plain": [
       "'%(levelname)s:%(name)s:%(message)s'"
      ]
     },
     "execution_count": 13,
     "metadata": {},
     "output_type": "execute_result"
    }
   ],
   "source": [
    "f._fmt"
   ]
  },
  {
   "cell_type": "code",
   "execution_count": 14,
   "id": "4f0ecce8-5e9f-4af3-b061-37963b2ee84b",
   "metadata": {},
   "outputs": [
    {
     "data": {
      "text/plain": [
       "'%Y-%m-%d %H:%M:%S'"
      ]
     },
     "execution_count": 14,
     "metadata": {},
     "output_type": "execute_result"
    }
   ],
   "source": [
    "f.default_time_format"
   ]
  },
  {
   "cell_type": "code",
   "execution_count": null,
   "id": "1b3d1cdd-15f6-45b7-b9cd-d627bf4e945c",
   "metadata": {},
   "outputs": [],
   "source": []
  }
 ],
 "metadata": {
  "kernelspec": {
   "display_name": "Python 3 (ipykernel)",
   "language": "python",
   "name": "python3"
  },
  "language_info": {
   "codemirror_mode": {
    "name": "ipython",
    "version": 3
   },
   "file_extension": ".py",
   "mimetype": "text/x-python",
   "name": "python",
   "nbconvert_exporter": "python",
   "pygments_lexer": "ipython3",
   "version": "3.13.2"
  }
 },
 "nbformat": 4,
 "nbformat_minor": 5
}
